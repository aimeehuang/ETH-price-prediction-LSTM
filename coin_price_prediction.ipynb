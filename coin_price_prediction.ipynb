{
 "cells": [
  {
   "cell_type": "code",
   "execution_count": 129,
   "metadata": {},
   "outputs": [],
   "source": [
    "import numpy as np\n",
    "import pandas as pd\n",
    "import matplotlib.pyplot as plt\n",
    "from sklearn.preprocessing import MinMaxScaler\n",
    "from sklearn.metrics import mean_squared_error, mean_absolute_error\n",
    "from math import sqrt\n",
    "from numpy.random import seed\n",
    "import os\n",
    "import tempfile\n",
    "import zipfile\n",
    "import boto3\n",
    "\n",
    "from sklearn.preprocessing import OneHotEncoder\n",
    "from tensorflow.keras.layers import Input, LSTM, Dense, GlobalMaxPool1D, Dropout\n",
    "from tensorflow.keras.models import Model\n",
    "from tensorflow.keras.optimizers import SGD, Adam, Adadelta\n",
    "from keras.models import Sequential"
   ]
  },
  {
   "cell_type": "markdown",
   "metadata": {},
   "source": [
    "Load Data"
   ]
  },
  {
   "cell_type": "code",
   "execution_count": 47,
   "metadata": {},
   "outputs": [
    {
     "name": "stdout",
     "output_type": "stream",
     "text": [
      "shape of eth price data: (2235, 5)\n",
      "<bound method NDFrame.head of              Open         High          Low        Close       Volume\n",
      "0        2.831620     3.536610     2.521120     2.772120       164329\n",
      "1        2.793760     2.798810     0.714725     0.753325       674188\n",
      "2        0.706136     0.879810     0.629191     0.701897       532170\n",
      "3        0.713989     0.729854     0.636546     0.708448       405283\n",
      "4        0.708087     1.131410     0.663235     1.067860      1463100\n",
      "...           ...          ...          ...          ...          ...\n",
      "2230  3397.422852  3540.807617  3371.892334  3432.018311  15995220233\n",
      "2231  3433.287842  3448.322021  3286.172363  3329.447998  14257609743\n",
      "2232  3329.670654  3343.325439  2940.839111  2958.993408  27371684581\n",
      "2233  2977.310547  3101.697510  2676.407471  2764.431152  30405062665\n",
      "2234  2763.209229  3089.083008  2741.440674  3077.867920  23742102645\n",
      "\n",
      "[2235 rows x 5 columns]>\n"
     ]
    }
   ],
   "source": [
    "#load data\n",
    "PATH = os.getcwd()\n",
    "eth_price = pd.read_csv(f'{PATH}/eth-price.csv')\n",
    "eth_price = eth_price.drop([\"Adj Close\", \"Date\"], axis=1)\n",
    "\n",
    "#print shape\n",
    "print(\"shape of eth price data: \" + str(eth_price.shape))\n",
    "print(eth_price.head)"
   ]
  },
  {
   "cell_type": "markdown",
   "metadata": {},
   "source": [
    "##Data Processing : Training and Testing Data"
   ]
  },
  {
   "cell_type": "code",
   "execution_count": 51,
   "metadata": {},
   "outputs": [],
   "source": [
    "#round data\n",
    "def round_data(df):\n",
    "    name = list(df.columns)\n",
    "    for col_name in name:\n",
    "        df[col_name] = df[col_name].round(3)\n",
    "    return df\n",
    "\n",
    "#scale data\n",
    "def scale_data(df, col_name):\n",
    "    scaler = MinMaxScaler(feature_range=(-1, 1))\n",
    "    tmp_df = df.copy()\n",
    "    for i in col_name:\n",
    "        # rescale values to -1, 1\n",
    "        scaler = MinMaxScaler(feature_range=(-1, 1))\n",
    "        scaled = scaler.fit_transform(tmp_df[i].values.reshape(-1,1))\n",
    "        scaled = np.reshape(scaled, len(scaled))\n",
    "        tmp_df[i] = scaled        \n",
    "    return tmp_df, scaler\n",
    "\n",
    "#split into training and testing set\n",
    "def split_train_test(df, train_percentage):\n",
    "    train_size = int(len(df) * train_percentage)\n",
    "    train = df[:train_size]\n",
    "    test = df[train_size:]\n",
    "    return train, test\n",
    "    \n",
    "\n",
    "#build sequence data\n",
    "def build_multidimension_seqence_data(df, T, D, n_outputs):\n",
    "    target = df['Close'].values\n",
    "    N = len(df) - T - n_outputs\n",
    "    X = np.zeros((N, T, D))\n",
    "    Y = []\n",
    "\n",
    "    for t in range(N):\n",
    "        X[t, :, :] = df[t:t+T]\n",
    "        y = np.array(target[t+T:t+T+n_outputs])\n",
    "        Y.append(y)\n",
    "    Y = np.array(Y)\n",
    "    \n",
    "    return X, Y"
   ]
  },
  {
   "cell_type": "code",
   "execution_count": 52,
   "metadata": {},
   "outputs": [
    {
     "name": "stdout",
     "output_type": "stream",
     "text": [
      "1788\n",
      "447\n",
      "<bound method NDFrame.head of             Open        High         Low       Close      Volume\n",
      "0       2.831620    3.536610    2.521120    2.772120      164329\n",
      "1       2.793760    2.798810    0.714725    0.753325      674188\n",
      "2       0.706136    0.879810    0.629191    0.701897      532170\n",
      "3       0.713989    0.729854    0.636546    0.708448      405283\n",
      "4       0.708087    1.131410    0.663235    1.067860     1463100\n",
      "...          ...         ...         ...         ...         ...\n",
      "1783  235.702850  236.053406  230.296600  232.944489  7010426122\n",
      "1784  232.877487  233.901932  229.259460  229.668045  7187490226\n",
      "1785  229.631485  232.493423  220.564575  222.959793  6918380955\n",
      "1786  222.914490  228.598282  219.472672  225.347168  6205925718\n",
      "1787  225.361435  229.903214  222.254990  228.194870  6726164653\n",
      "\n",
      "[1788 rows x 5 columns]>\n",
      "<bound method NDFrame.head of              Open         High          Low        Close       Volume\n",
      "1788   227.968430   229.476807   224.815186   226.315002   6094093001\n",
      "1789   226.134583   232.756119   224.835739   231.113419   6463737443\n",
      "1790   231.288910   232.396881   225.461960   229.392197   6212210566\n",
      "1791   229.318954   229.629318   224.913971   225.387070   5109032700\n",
      "1792   225.288483   230.054138   225.133316   229.074112   5228310135\n",
      "...           ...          ...          ...          ...          ...\n",
      "2230  3397.422852  3540.807617  3371.892334  3432.018311  15995220233\n",
      "2231  3433.287842  3448.322021  3286.172363  3329.447998  14257609743\n",
      "2232  3329.670654  3343.325439  2940.839111  2958.993408  27371684581\n",
      "2233  2977.310547  3101.697510  2676.407471  2764.431152  30405062665\n",
      "2234  2763.209229  3089.083008  2741.440674  3077.867920  23742102645\n",
      "\n",
      "[447 rows x 5 columns]>\n",
      "<bound method NDFrame.head of           Open      High       Low     Close    Volume\n",
      "0    -0.996564 -0.995736 -0.996744 -0.996651 -0.999996\n",
      "1    -0.996618 -0.996767 -0.999545 -0.999544 -0.999959\n",
      "2    -0.999607 -0.999446 -0.999677 -0.999617 -0.999969\n",
      "3    -0.999596 -0.999655 -0.999666 -0.999608 -0.999978\n",
      "4    -0.999604 -0.999095 -0.999624 -0.999093 -0.999903\n",
      "...        ...       ...       ...       ...       ...\n",
      "1783 -0.663188 -0.671082 -0.643653 -0.666888 -0.500851\n",
      "1784 -0.667233 -0.674086 -0.645261 -0.671582 -0.488243\n",
      "1785 -0.671880 -0.676053 -0.658739 -0.681193 -0.507405\n",
      "1786 -0.681496 -0.681492 -0.660432 -0.677773 -0.558133\n",
      "1787 -0.677993 -0.679670 -0.656119 -0.673693 -0.521091\n",
      "\n",
      "[1788 rows x 5 columns]>\n",
      "MinMaxScaler(feature_range=(-1, 1))\n",
      "(1759, 28, 5)\n",
      "(1759, 1)\n",
      "(418, 28, 5)\n",
      "(418, 1)\n"
     ]
    }
   ],
   "source": [
    "#split data\n",
    "train_percentage = 0.8\n",
    "train_data, test_data = split_train_test(eth_price, train_percentage)\n",
    "print(len(train_data))\n",
    "print(len(test_data))\n",
    "print(train_data.head)\n",
    "print(test_data.head)\n",
    "\n",
    "#scaleing traing and testing data\n",
    "scaled_train, scalers_train = scale_data(train_data, ['Open','High','Low','Volume','Close'])\n",
    "scaled_test, scalers_test = scale_data(test_data, ['Open','High','Low','Volume','Close'])\n",
    "print(scaled_train.head)\n",
    "print(scalers_train)\n",
    "\n",
    "T = 28 # use T past values to predict the next value\n",
    "D = pd.DataFrame(scaled_train).shape[1]  # number of feature\n",
    "\n",
    "n_outputs = 1 # number of forecasting steps\n",
    "\n",
    "trainX,trainY = build_multidimension_seqence_data(scaled_train,T,D,n_outputs)\n",
    "testX,testY = build_multidimension_seqence_data(scaled_test,T,D,n_outputs)\n",
    "\n",
    "print(trainX.shape)\n",
    "print(trainY.shape)\n",
    "print(testX.shape)\n",
    "print(testY.shape)\n"
   ]
  },
  {
   "cell_type": "markdown",
   "metadata": {},
   "source": [
    "##Train LSTM Model"
   ]
  },
  {
   "cell_type": "code",
   "execution_count": 54,
   "metadata": {},
   "outputs": [
    {
     "name": "stdout",
     "output_type": "stream",
     "text": [
      "Model: \"sequential_1\"\n",
      "_________________________________________________________________\n",
      "Layer (type)                 Output Shape              Param #   \n",
      "=================================================================\n",
      "lstm_1 (LSTM)                (None, 20)                2080      \n",
      "_________________________________________________________________\n",
      "dropout_3 (Dropout)          (None, 20)                0         \n",
      "_________________________________________________________________\n",
      "dense_3 (Dense)              (None, 40)                840       \n",
      "_________________________________________________________________\n",
      "dropout_4 (Dropout)          (None, 40)                0         \n",
      "_________________________________________________________________\n",
      "dense_4 (Dense)              (None, 80)                3280      \n",
      "_________________________________________________________________\n",
      "dropout_5 (Dropout)          (None, 80)                0         \n",
      "_________________________________________________________________\n",
      "dense_5 (Dense)              (None, 1)                 81        \n",
      "=================================================================\n",
      "Total params: 6,281\n",
      "Trainable params: 6,281\n",
      "Non-trainable params: 0\n",
      "_________________________________________________________________\n",
      "Epoch 1/50\n"
     ]
    },
    {
     "name": "stderr",
     "output_type": "stream",
     "text": [
      "/Users/huaihsuan/Library/r-miniconda/lib/python3.7/site-packages/keras/optimizer_v2/optimizer_v2.py:356: UserWarning: The `lr` argument is deprecated, use `learning_rate` instead.\n",
      "  \"The `lr` argument is deprecated, use `learning_rate` instead.\")\n"
     ]
    },
    {
     "name": "stdout",
     "output_type": "stream",
     "text": [
      "110/110 [==============================] - 2s 9ms/step - loss: 0.3614 - val_loss: 0.0223\n",
      "Epoch 2/50\n",
      "110/110 [==============================] - 1s 6ms/step - loss: 0.0180 - val_loss: 0.0254\n",
      "Epoch 3/50\n",
      "110/110 [==============================] - 1s 6ms/step - loss: 0.0133 - val_loss: 0.0160\n",
      "Epoch 4/50\n",
      "110/110 [==============================] - 1s 7ms/step - loss: 0.0133 - val_loss: 0.0322\n",
      "Epoch 5/50\n",
      "110/110 [==============================] - 1s 7ms/step - loss: 0.0113 - val_loss: 0.0267\n",
      "Epoch 6/50\n",
      "110/110 [==============================] - 1s 7ms/step - loss: 0.0134 - val_loss: 0.0168\n",
      "Epoch 7/50\n",
      "110/110 [==============================] - 1s 8ms/step - loss: 0.0134 - val_loss: 0.0466\n",
      "Epoch 8/50\n",
      "110/110 [==============================] - 1s 9ms/step - loss: 0.0125 - val_loss: 0.0414\n",
      "Epoch 9/50\n",
      "110/110 [==============================] - 1s 7ms/step - loss: 0.0099 - val_loss: 0.0302\n",
      "Epoch 10/50\n",
      "110/110 [==============================] - 1s 7ms/step - loss: 0.0106 - val_loss: 0.0335\n",
      "Epoch 11/50\n",
      "110/110 [==============================] - 1s 6ms/step - loss: 0.0098 - val_loss: 0.0180\n",
      "Epoch 12/50\n",
      "110/110 [==============================] - 1s 7ms/step - loss: 0.0101 - val_loss: 0.0224\n",
      "Epoch 13/50\n",
      "110/110 [==============================] - 1s 7ms/step - loss: 0.0103 - val_loss: 0.0254\n",
      "Epoch 14/50\n",
      "110/110 [==============================] - 1s 6ms/step - loss: 0.0079 - val_loss: 0.0356\n",
      "Epoch 15/50\n",
      "110/110 [==============================] - 1s 6ms/step - loss: 0.0070 - val_loss: 0.0284\n",
      "Epoch 16/50\n",
      "110/110 [==============================] - 1s 6ms/step - loss: 0.0088 - val_loss: 0.0289\n",
      "Epoch 17/50\n",
      "110/110 [==============================] - 1s 6ms/step - loss: 0.0096 - val_loss: 0.0143\n",
      "Epoch 18/50\n",
      "110/110 [==============================] - 1s 6ms/step - loss: 0.0090 - val_loss: 0.0193\n",
      "Epoch 19/50\n",
      "110/110 [==============================] - 1s 6ms/step - loss: 0.0073 - val_loss: 0.0509\n",
      "Epoch 20/50\n",
      "110/110 [==============================] - 1s 6ms/step - loss: 0.0080 - val_loss: 0.0182\n",
      "Epoch 21/50\n",
      "110/110 [==============================] - 1s 6ms/step - loss: 0.0088 - val_loss: 0.0306\n",
      "Epoch 22/50\n",
      "110/110 [==============================] - 1s 6ms/step - loss: 0.0077 - val_loss: 0.0326\n",
      "Epoch 23/50\n",
      "110/110 [==============================] - 1s 6ms/step - loss: 0.0095 - val_loss: 0.0148\n",
      "Epoch 24/50\n",
      "110/110 [==============================] - 1s 6ms/step - loss: 0.0079 - val_loss: 0.0123\n",
      "Epoch 25/50\n",
      "110/110 [==============================] - 1s 6ms/step - loss: 0.0086 - val_loss: 0.0321\n",
      "Epoch 26/50\n",
      "110/110 [==============================] - 1s 8ms/step - loss: 0.0075 - val_loss: 0.0415\n",
      "Epoch 27/50\n",
      "110/110 [==============================] - 1s 7ms/step - loss: 0.0071 - val_loss: 0.0318\n",
      "Epoch 28/50\n",
      "110/110 [==============================] - 1s 7ms/step - loss: 0.0083 - val_loss: 0.0264\n",
      "Epoch 29/50\n",
      "110/110 [==============================] - 1s 7ms/step - loss: 0.0077 - val_loss: 0.0284\n",
      "Epoch 30/50\n",
      "110/110 [==============================] - 1s 6ms/step - loss: 0.0075 - val_loss: 0.0191\n",
      "Epoch 31/50\n",
      "110/110 [==============================] - 1s 6ms/step - loss: 0.0073 - val_loss: 0.0336\n",
      "Epoch 32/50\n",
      "110/110 [==============================] - 1s 6ms/step - loss: 0.0075 - val_loss: 0.0174\n",
      "Epoch 33/50\n",
      "110/110 [==============================] - 1s 7ms/step - loss: 0.0057 - val_loss: 0.0325\n",
      "Epoch 34/50\n",
      "110/110 [==============================] - 1s 6ms/step - loss: 0.0061 - val_loss: 0.0088\n",
      "Epoch 35/50\n",
      "110/110 [==============================] - 1s 7ms/step - loss: 0.0077 - val_loss: 0.0158\n",
      "Epoch 36/50\n",
      "110/110 [==============================] - 1s 7ms/step - loss: 0.0062 - val_loss: 0.0235\n",
      "Epoch 37/50\n",
      "110/110 [==============================] - 1s 6ms/step - loss: 0.0064 - val_loss: 0.0345\n",
      "Epoch 38/50\n",
      "110/110 [==============================] - 1s 6ms/step - loss: 0.0082 - val_loss: 0.0189\n",
      "Epoch 39/50\n",
      "110/110 [==============================] - 1s 6ms/step - loss: 0.0076 - val_loss: 0.0296\n",
      "Epoch 40/50\n",
      "110/110 [==============================] - 1s 6ms/step - loss: 0.0062 - val_loss: 0.0212\n",
      "Epoch 41/50\n",
      "110/110 [==============================] - 1s 6ms/step - loss: 0.0074 - val_loss: 0.0186\n",
      "Epoch 42/50\n",
      "110/110 [==============================] - 1s 6ms/step - loss: 0.0081 - val_loss: 0.0169\n",
      "Epoch 43/50\n",
      "110/110 [==============================] - 1s 6ms/step - loss: 0.0076 - val_loss: 0.0325\n",
      "Epoch 44/50\n",
      "110/110 [==============================] - 1s 6ms/step - loss: 0.0081 - val_loss: 0.0148\n",
      "Epoch 45/50\n",
      "110/110 [==============================] - 1s 6ms/step - loss: 0.0068 - val_loss: 0.0134\n",
      "Epoch 46/50\n",
      "110/110 [==============================] - 1s 6ms/step - loss: 0.0062 - val_loss: 0.0164\n",
      "Epoch 47/50\n",
      "110/110 [==============================] - 1s 6ms/step - loss: 0.0066 - val_loss: 0.0292\n",
      "Epoch 48/50\n",
      "110/110 [==============================] - 1s 6ms/step - loss: 0.0065 - val_loss: 0.0178\n",
      "Epoch 49/50\n",
      "110/110 [==============================] - 1s 6ms/step - loss: 0.0066 - val_loss: 0.0144\n",
      "Epoch 50/50\n",
      "110/110 [==============================] - 1s 6ms/step - loss: 0.0054 - val_loss: 0.0141\n"
     ]
    },
    {
     "data": {
      "image/png": "[encoded data removed]",
      "text/plain": [
       "<Figure size 432x288 with 1 Axes>"
      ]
     },
     "metadata": {
      "needs_background": "light"
     },
     "output_type": "display_data"
    }
   ],
   "source": [
    "# set seed\n",
    "seed(100)\n",
    "\n",
    "# configuting LSTM model\n",
    "model = Sequential()\n",
    "model.add(LSTM(units = 20, activation = 'relu', kernel_initializer='normal', input_shape = (T, D)))\n",
    "model.add(Dropout(0.2))\n",
    "model.add(Dense(40, activation='relu'))\n",
    "model.add(Dropout(0.2))\n",
    "model.add(Dense(80, activation='relu'))\n",
    "model.add(Dropout(0.2))\n",
    "model.add(Dense(units = n_outputs))\n",
    "model.summary()\n",
    "\n",
    "model.compile(\n",
    "  loss='mse',\n",
    "  optimizer = Adam(lr= 0.01)\n",
    "  #optimizer = Adadelta()\n",
    ")\n",
    "\n",
    "# train model using first half of the data\n",
    "r = model.fit(\n",
    "  trainX, trainY, \n",
    "  batch_size=16,\n",
    "  epochs=50,\n",
    "  validation_data=(testX, testY)\n",
    ")\n",
    "\n",
    "# plot training and validation loss\n",
    "plt.plot(r.history['loss'], label='loss')\n",
    "plt.plot(r.history['val_loss'], label='val_loss')\n",
    "plt.legend()\n",
    "plt.title(\"Training and Validation Loss\")\n",
    "plt.show()"
   ]
  },
  {
   "cell_type": "markdown",
   "metadata": {},
   "source": [
    "Model Evaluation : test data"
   ]
  },
  {
   "cell_type": "code",
   "execution_count": 97,
   "metadata": {},
   "outputs": [],
   "source": [
    "# make forecast using test data\n",
    "def forecasts(model, testX, T, D):\n",
    "    forecasts = list()\n",
    "    for x in testX:\n",
    "        # make forecast\n",
    "        forecast = model.predict(x.reshape(1, T, D))\n",
    "        # store the forecast\n",
    "        forecasts.append(forecast)\n",
    "    return forecasts\n",
    "\n",
    "#inverse scaled data\n",
    "def scale_inverse(arrays, scaler, n_outputs):\n",
    "    inverted = list()\n",
    "    for array in arrays:\n",
    "        array = array.reshape(-1, n_outputs)\n",
    "        inv_scale = scaler.inverse_transform(array)\n",
    "        inverted.append(inv_scale[0,0])\n",
    "    return inverted"
   ]
  },
  {
   "cell_type": "code",
   "execution_count": 111,
   "metadata": {},
   "outputs": [],
   "source": [
    "# forecast and evaluate using rmse/ mae\n",
    "forecast = forecasts(model, testX, T, D)\n",
    "test_inverted_forecast = scale_inverse(forecast,scalers_test,n_outputs)\n",
    "test_actual = list(test_data['Close'][T+1:,])\n",
    "\n",
    "# model evaluation\n",
    "\n"
   ]
  },
  {
   "cell_type": "code",
   "execution_count": 114,
   "metadata": {},
   "outputs": [
    {
     "data": {
      "image/png": "[encoded data removed]",
      "text/plain": [
       "<Figure size 432x288 with 1 Axes>"
      ]
     },
     "metadata": {
      "needs_background": "light"
     },
     "output_type": "display_data"
    }
   ],
   "source": [
    "#plotting the graph\n",
    "plt.plot(test_actual, color = 'black', label = 'Actual ETH Price($)')\n",
    "plt.plot(test_inverted_forecast, color = 'green', label = 'Predicted ETH Price($)')\n",
    "plt.title('ETH Price Prediction')\n",
    "plt.xlabel('Time')\n",
    "plt.ylabel('ETH Price')\n",
    "plt.legend()\n",
    "plt.show()"
   ]
  },
  {
   "cell_type": "markdown",
   "metadata": {},
   "source": [
    "Save model to aws s3"
   ]
  },
  {
   "cell_type": "code",
   "execution_count": 133,
   "metadata": {},
   "outputs": [
    {
     "name": "stdout",
     "output_type": "stream",
     "text": [
      "INFO:tensorflow:Assets written to: /Users/huaihsuan/Desktop/Projects/coin prediction/coin_price_lstm/assets\n"
     ]
    }
   ],
   "source": [
    "# save zip file to python temp file\n",
    "\n",
    "def zipdir(path, ziph):\n",
    "  # Zipfile hook to zip up model folders\n",
    "  length = len(path)\n",
    "  for root, dirs, files in os.walk(path):\n",
    "    folder = root[length:] # Stop zipping parent folders\n",
    "    for file in files:\n",
    "      ziph.write(os.path.join(root, file), os.path.join(folder, file))\n",
    "\n",
    "\n",
    "# save model to local file\n",
    "model.save(f\"{PATH}/{'coin_price_lstm'}\")\n",
    "# zip the model\n",
    "zipf = zipfile.ZipFile(f\"{PATH}/{'coin_price_lstm'}.zip\", \"w\", zipfile.ZIP_STORED)\n",
    "zipdir(f\"{PATH}//{'coin_price_lstm'}\", zipf)\n",
    "zipf.close()\n",
    "\n",
    "#upload file to s3\n",
    "s3 = boto3.client('s3', aws_access_key_id='',\n",
    "                      aws_secret_access_key='')\n",
    "\n",
    "s3.upload_file('coin_price_lstm.zip', 'eth-price', 'coin_price_lstm.zip')\n",
    "print(\"Upload Successful\")\n",
    "\n",
    "\n",
    "  "
   ]
  }
 ],
 "metadata": {
  "interpreter": {
   "hash": "fd1cddfec0f9ca35467bb926773e23b7ab0def5b3ca154b66d5d8fdc92e9d08b"
  },
  "kernelspec": {
   "display_name": "Python 3.7.4 64-bit ('base': conda)",
   "name": "python3"
  },
  "language_info": {
   "codemirror_mode": {
    "name": "ipython",
    "version": 3
   },
   "file_extension": ".py",
   "mimetype": "text/x-python",
   "name": "python",
   "nbconvert_exporter": "python",
   "pygments_lexer": "ipython3",
   "version": "3.7.4"
  },
  "orig_nbformat": 4
 },
 "nbformat": 4,
 "nbformat_minor": 2
}
